{
 "cells": [
  {
   "cell_type": "markdown",
   "metadata": {},
   "source": [
    "# PROBLEM STATEMENT:\n"
   ]
  },
  {
   "cell_type": "markdown",
   "metadata": {},
   "source": [
    "## THERE ARE TWO CLUBS OPERATING IN OUR COLLEGE. THE FIRST ONE IS A DANCE CLUB NAMED AS \"EXTRAVENZA\" AND THE OTHER ONE IS A SPORTS CLUB NAMED AS \"TEZ\". SOME OF THE STUDENTS ARE ENROLLED IN EXTRAVENZA AND SOME IN TEZ. BUT THERE IS A SMALL GROUP OF STUDENTS WHO ARE ENROLLED IN BOTH THE CLUBS.\n",
    "## YOU AS A REPRESENTATIVE OF THE STUDENT COUNCIL IS GIVEN A TASK TO TELL THE TOTAL COUNT OF STUDENTS WHO ARE ENROLLED IN AT LEAST ONE OF THE CLUBS."
   ]
  },
  {
   "cell_type": "markdown",
   "metadata": {},
   "source": [
    "# SOLUTION:"
   ]
  },
  {
   "cell_type": "code",
   "execution_count": 1,
   "metadata": {},
   "outputs": [],
   "source": [
    "class Extravenza:\n",
    "    n1=0\n",
    "    list1=[]\n",
    "    def function1(self):\n",
    "        self.n1=int(input(\"ENter the no. students enrolled in extravenza club:\"))\n",
    "        for i in range(0,self.n1):\n",
    "            s1=input(\"ENter the name of the Student:\")\n",
    "            (self.list1).append(s1)\n",
    "        print(\"Extravenza club includes the following students\",self.list1)\n",
    "class Tez:\n",
    "    n2=0\n",
    "    list2=[]\n",
    "    def function2(self):\n",
    "        self.n2=int(input(\"ENter the no. students enrolled in tez club:\"))\n",
    "        for i in range(0,self.n2):\n",
    "            s2=input(\"ENter the name of the Student:\")\n",
    "            (self.list2).append(s2)\n",
    "        print(\"Tez club includes the following students\",self.list2)\n"
   ]
  },
  {
   "cell_type": "code",
   "execution_count": 2,
   "metadata": {},
   "outputs": [
    {
     "name": "stdout",
     "output_type": "stream",
     "text": [
      "ENter the no. students enrolled in extravenza club:4\n",
      "ENter the name of the Student:A\n",
      "ENter the name of the Student:B\n",
      "ENter the name of the Student:C\n",
      "ENter the name of the Student:D\n",
      "Extravenza club includes the following students ['A', 'B', 'C', 'D']\n",
      "ENter the no. students enrolled in tez club:3\n",
      "ENter the name of the Student:B\n",
      "ENter the name of the Student:K\n",
      "ENter the name of the Student:L\n",
      "Tez club includes the following students ['B', 'K', 'L']\n",
      "Extravenza club includes the following students {'B', 'C', 'D', 'A'}\n",
      "Tez club includes the following students {'B', 'L', 'K'}\n",
      "Students enrolled in both the clubs are  {'B'}\n",
      "NUmber of Students enrolled in both the clubs are : 1\n",
      "Number of students who are enrolled in at least one of the clubs are :  6\n"
     ]
    }
   ],
   "source": [
    "class Test(Extravenza,Tez):\n",
    "    set3=[]\n",
    "    count=0\n",
    "    total=0\n",
    "    def function3(self):\n",
    "        self.set1=set(self.list1)\n",
    "        self.set2=set(self.list2)\n",
    "        self.set3=set((self.set1).intersection(self.set2))\n",
    "        print(\"Extravenza club includes the following students\",self.set1)\n",
    "        print(\"Tez club includes the following students\",self.set2)\n",
    "        print(\"Students enrolled in both the clubs are \",self.set3)\n",
    "    def function4(self):\n",
    "        for i in range (0,len(self.set3)):\n",
    "            self.count=self.count+1\n",
    "        print(\"NUmber of Students enrolled in both the clubs are :\",self.count)\n",
    "    def function5(self):\n",
    "        self.total=len(self.set1)+len(self.set2)-self.count\n",
    "        print(\"Number of students who are enrolled in at least one of the clubs are : \",self.total)\n",
    "obj3=Test()\n",
    "obj3.function1()\n",
    "obj3.function2()\n",
    "obj3.function3()\n",
    "obj3.function4()\n",
    "obj3.function5()"
   ]
  },
  {
   "cell_type": "code",
   "execution_count": null,
   "metadata": {},
   "outputs": [],
   "source": []
  }
 ],
 "metadata": {
  "kernelspec": {
   "display_name": "Python 3",
   "language": "python",
   "name": "python3"
  },
  "language_info": {
   "codemirror_mode": {
    "name": "ipython",
    "version": 3
   },
   "file_extension": ".py",
   "mimetype": "text/x-python",
   "name": "python",
   "nbconvert_exporter": "python",
   "pygments_lexer": "ipython3",
   "version": "3.7.4"
  }
 },
 "nbformat": 4,
 "nbformat_minor": 2
}
